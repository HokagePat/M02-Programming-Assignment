{
 "cells": [
  {
   "cell_type": "code",
   "execution_count": null,
   "id": "73006794",
   "metadata": {},
   "outputs": [],
   "source": [
    "#QUESTION 4.1:\n",
    "    \n",
    "import random\n",
    "\n",
    "secret = random.randint(1,10)\n",
    "guess = random.randint(1,10)\n",
    "\n",
    "print(\"Guess value is = \", guess)\n",
    "print(\"Secret value is = \", secret)\n",
    "\n",
    "if guess < secret:\n",
    "    print(\"too low!\")\n",
    "\n",
    "elif guess > secret:\n",
    "    print(\"too high!\")\n",
    "    \n",
    "else:\n",
    "    print(\"just right!\")"
   ]
  },
  {
   "cell_type": "code",
   "execution_count": null,
   "id": "10592fbf",
   "metadata": {},
   "outputs": [],
   "source": [
    "#QUESTION 4.2:\n",
    "\n",
    "small = True\n",
    "green = False\n",
    "if small:\n",
    "    if green:\n",
    "        print(\"pea\")\n",
    "    else:\n",
    "        print(\"cherry\")\n",
    "else:\n",
    "    if green:\n",
    "        print(\"watermelon\")\n",
    "    else:\n",
    "        print(\"pumpkin\")"
   ]
  },
  {
   "cell_type": "code",
   "execution_count": null,
   "id": "1123cfca",
   "metadata": {},
   "outputs": [],
   "source": [
    "#QUESTION 6.1:\n",
    "\n",
    "list =[3,2,1,0]\n",
    "for x int list:\n",
    "    print (x)"
   ]
  },
  {
   "cell_type": "code",
   "execution_count": null,
   "id": "9cd1300e",
   "metadata": {},
   "outputs": [],
   "source": [
    "#QUESTION 6.2:\n",
    "  \n",
    "guess_me = 7\n",
    "number = 1\n",
    "\n",
    "while True:\n",
    "    if number < guess_me:\n",
    "        print(\"too low\")\n",
    "    elif number == guess_me:\n",
    "        print(\"found it!\")\n",
    "        break\n",
    "    else:\n",
    "        print(\"oops\")\n",
    "        break\n",
    "    number += 1"
   ]
  },
  {
   "cell_type": "code",
   "execution_count": null,
   "id": "d6cb6b40",
   "metadata": {},
   "outputs": [],
   "source": [
    "#QUESTION 6.3:\n",
    "    \n",
    "guess_me = 5\n",
    "for number in range(10):\n",
    "    if number < guess_me:\n",
    "        print(\"too low\")\n",
    "    elif number == guess_me:\n",
    "        print(\"found it!)\n",
    "        break\n",
    "    else:\n",
    "        print(\"oops\")\n",
    "        break"
   ]
  }
 ],
 "metadata": {
  "kernelspec": {
   "display_name": "Python 3 (ipykernel)",
   "language": "python",
   "name": "python3"
  },
  "language_info": {
   "codemirror_mode": {
    "name": "ipython",
    "version": 3
   },
   "file_extension": ".py",
   "mimetype": "text/x-python",
   "name": "python",
   "nbconvert_exporter": "python",
   "pygments_lexer": "ipython3",
   "version": "3.10.5"
  }
 },
 "nbformat": 4,
 "nbformat_minor": 5
}
